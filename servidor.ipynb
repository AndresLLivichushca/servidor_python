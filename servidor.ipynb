{
 "cells": [
  {
   "cell_type": "code",
   "execution_count": 1,
   "id": "351d09e5-1cbb-4ce4-9950-068a3b352df1",
   "metadata": {},
   "outputs": [
    {
     "name": "stdout",
     "output_type": "stream",
     "text": [
      "Note: you may need to restart the kernel to use updated packages.\n",
      "Requirement already satisfied: websockets in c:\\users\\asus\\appdata\\local\\anaconda3\\lib\\site-packages (15.0.1)\n"
     ]
    },
    {
     "name": "stderr",
     "output_type": "stream",
     "text": [
      "\n",
      "[notice] A new release of pip is available: 25.0.1 -> 25.1.1\n",
      "[notice] To update, run: python.exe -m pip install --upgrade pip\n"
     ]
    }
   ],
   "source": [
    "pip install websockets"
   ]
  },
  {
   "cell_type": "code",
   "execution_count": 3,
   "id": "5c04bbdb-0185-4989-ab1e-a0d53e13e95b",
   "metadata": {},
   "outputs": [
    {
     "name": "stdout",
     "output_type": "stream",
     "text": [
      "Requirement already satisfied: nest_asyncio in c:\\users\\asus\\appdata\\local\\anaconda3\\lib\\site-packages (1.6.0)\n",
      "Note: you may need to restart the kernel to use updated packages.\n"
     ]
    },
    {
     "name": "stderr",
     "output_type": "stream",
     "text": [
      "\n",
      "[notice] A new release of pip is available: 25.0.1 -> 25.1.1\n",
      "[notice] To update, run: python.exe -m pip install --upgrade pip\n"
     ]
    }
   ],
   "source": [
    "pip install nest_asyncio"
   ]
  },
  {
   "cell_type": "code",
   "execution_count": null,
   "id": "3e30ee89-b229-4065-b246-a74916f2a973",
   "metadata": {},
   "outputs": [
    {
     "name": "stdout",
     "output_type": "stream",
     "text": [
      "Servidor WebSocket ejecutándose en ws://localhost:8765\n",
      "Mensaje recibido: jose se ha unido al chat.\n",
      "Mensaje recibido: andres se ha unido al chat.\n",
      "Mensaje recibido: PabloM: hola\n",
      "Mensaje recibido: jose: hi\n",
      "Mensaje recibido: andres: que tal\n",
      "Un cliente se desconectó.\n"
     ]
    }
   ],
   "source": [
    "# servidor.py\n",
    "import asyncio\n",
    "import websockets\n",
    "import nest_asyncio\n",
    "\n",
    "nest_asyncio.apply()\n",
    "\n",
    "connected_clients = set()\n",
    "\n",
    "async def handler(websocket):\n",
    "    connected_clients.add(websocket)\n",
    "    try:\n",
    "        async for message in websocket:\n",
    "            print(f\"Mensaje recibido: {message}\")\n",
    "            for client in connected_clients:\n",
    "                if client != websocket:\n",
    "                    await client.send(f\"{message}\")\n",
    "    except websockets.exceptions.ConnectionClosed:\n",
    "        print(\"Un cliente se desconectó.\")\n",
    "    finally:\n",
    "        connected_clients.remove(websocket)\n",
    "\n",
    "start_server = websockets.serve(handler, \"0.0.0.0\", 8765)\n",
    "\n",
    "async def iniciar_servidor():\n",
    "    await start_server\n",
    "    print(\"Servidor WebSocket ejecutándose en ws://localhost:8765\")\n",
    "    await asyncio.Future()\n",
    "\n",
    "asyncio.run(iniciar_servidor())\n"
   ]
  },
  {
   "cell_type": "code",
   "execution_count": null,
   "id": "1ca684ec-4c4b-4a03-8b4b-26b87f7222cc",
   "metadata": {},
   "outputs": [],
   "source": []
  }
 ],
 "metadata": {
  "kernelspec": {
   "display_name": "Python 3 (ipykernel)",
   "language": "python",
   "name": "python3"
  },
  "language_info": {
   "codemirror_mode": {
    "name": "ipython",
    "version": 3
   },
   "file_extension": ".py",
   "mimetype": "text/x-python",
   "name": "python",
   "nbconvert_exporter": "python",
   "pygments_lexer": "ipython3",
   "version": "3.12.4"
  }
 },
 "nbformat": 4,
 "nbformat_minor": 5
}

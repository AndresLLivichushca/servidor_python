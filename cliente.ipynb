{
 "cells": [
  {
   "cell_type": "code",
   "execution_count": 1,
   "id": "9e0ff265-aebe-4d23-9be7-16c1ea7901c0",
   "metadata": {},
   "outputs": [
    {
     "name": "stdout",
     "output_type": "stream",
     "text": [
      "Requirement already satisfied: websockets in c:\\users\\asus\\appdata\\local\\anaconda3\\lib\\site-packages (15.0.1)\n",
      "Note: you may need to restart the kernel to use updated packages.\n"
     ]
    },
    {
     "name": "stderr",
     "output_type": "stream",
     "text": [
      "\n",
      "[notice] A new release of pip is available: 25.0.1 -> 25.1.1\n",
      "[notice] To update, run: python.exe -m pip install --upgrade pip\n"
     ]
    }
   ],
   "source": [
    "pip install websockets"
   ]
  },
  {
   "cell_type": "code",
   "execution_count": 3,
   "id": "a5cb5b9f-463c-4d40-b8fa-6358b2676dd6",
   "metadata": {},
   "outputs": [
    {
     "name": "stdout",
     "output_type": "stream",
     "text": [
      "Requirement already satisfied: nest_asyncio in c:\\users\\asus\\appdata\\local\\anaconda3\\lib\\site-packages (1.6.0)\n",
      "Note: you may need to restart the kernel to use updated packages.\n"
     ]
    },
    {
     "name": "stderr",
     "output_type": "stream",
     "text": [
      "\n",
      "[notice] A new release of pip is available: 25.0.1 -> 25.1.1\n",
      "[notice] To update, run: python.exe -m pip install --upgrade pip\n"
     ]
    }
   ],
   "source": [
    "pip install nest_asyncio"
   ]
  },
  {
   "cell_type": "code",
   "execution_count": null,
   "id": "ea8018c7-1149-4e22-8a56-84c54b754374",
   "metadata": {},
   "outputs": [],
   "source": [
    "# cliente.py\n",
    "import asyncio\n",
    "import threading\n",
    "import tkinter as tk\n",
    "import websockets\n",
    "\n",
    "class ChatClienteGUI:\n",
    "    def __init__(self):\n",
    "        self.root = tk.Tk()\n",
    "        self.root.title(\"Cliente de Chat WebSocket\")\n",
    "        self.nickname = \"\"\n",
    "        self.ws = None\n",
    "\n",
    "        # Parte superior: ingreso del nombre\n",
    "        self.frame_top = tk.Frame(self.root)\n",
    "        self.label_nombre = tk.Label(self.frame_top, text=\"Apodo:\")\n",
    "        self.entry_nombre = tk.Entry(self.frame_top)\n",
    "        self.btn_conectar = tk.Button(self.frame_top, text=\"Conectar\", command=self.iniciar_conexion)\n",
    "\n",
    "        self.label_nombre.pack(side=tk.LEFT)\n",
    "        self.entry_nombre.pack(side=tk.LEFT, padx=5)\n",
    "        self.btn_conectar.pack(side=tk.LEFT)\n",
    "        self.frame_top.pack(pady=10)\n",
    "\n",
    "        # Área de mensajes\n",
    "        self.chat_area = tk.Text(self.root, height=20, width=50, state=tk.DISABLED)\n",
    "        self.chat_area.pack(padx=10, pady=10)\n",
    "\n",
    "        # Parte inferior: envío de mensajes\n",
    "        self.frame_bottom = tk.Frame(self.root)\n",
    "        self.entry_mensaje = tk.Entry(self.frame_bottom, width=40)\n",
    "        self.btn_enviar = tk.Button(self.frame_bottom, text=\"Enviar\", command=self.enviar_mensaje)\n",
    "\n",
    "        self.entry_mensaje.pack(side=tk.LEFT, padx=5)\n",
    "        self.btn_enviar.pack(side=tk.LEFT)\n",
    "        self.frame_bottom.pack(pady=10)\n",
    "\n",
    "        self.loop = asyncio.new_event_loop()\n",
    "        threading.Thread(target=self.loop.run_forever, daemon=True).start()\n",
    "\n",
    "        self.root.protocol(\"WM_DELETE_WINDOW\", self.cerrar_ventana)\n",
    "        self.root.mainloop()\n",
    "\n",
    "    def iniciar_conexion(self):\n",
    "        self.nickname = self.entry_nombre.get().strip()\n",
    "        if self.nickname:\n",
    "            self.agregar_mensaje(\"Conectando al servidor...\")\n",
    "            asyncio.run_coroutine_threadsafe(self.conectar(), self.loop)\n",
    "\n",
    "    async def conectar(self):\n",
    "        try:\n",
    "            self.ws = await websockets.connect(\"ws://localhost:8765\")\n",
    "            self.agregar_mensaje(\"Conectado al servidor.\")\n",
    "            await self.ws.send(f\"{self.nickname} se ha unido al chat.\")\n",
    "            asyncio.run_coroutine_threadsafe(self.recibir_mensajes(), self.loop)\n",
    "        except Exception as e:\n",
    "            self.agregar_mensaje(f\"Error de conexión: {e}\")\n",
    "\n",
    "    async def recibir_mensajes(self):\n",
    "        try:\n",
    "            async for mensaje in self.ws:\n",
    "                self.agregar_mensaje(mensaje)\n",
    "        except websockets.exceptions.ConnectionClosed:\n",
    "            self.agregar_mensaje(\"Conexión cerrada.\")\n",
    "\n",
    "    def enviar_mensaje(self):\n",
    "        mensaje = self.entry_mensaje.get().strip()\n",
    "        if self.ws and mensaje:\n",
    "            mensaje_completo = f\"{self.nickname}: {mensaje}\"\n",
    "            # Enviar al servidor\n",
    "            asyncio.run_coroutine_threadsafe(\n",
    "                self.ws.send(mensaje_completo),\n",
    "                self.loop\n",
    "            )\n",
    "            # Mostrar inmediatamente en la interfaz del propio usuario\n",
    "            self.agregar_mensaje(f\"Tú: {mensaje}\")\n",
    "            self.entry_mensaje.delete(0, tk.END)\n",
    "\n",
    "\n",
    "    def agregar_mensaje(self, mensaje):\n",
    "        self.chat_area.config(state=tk.NORMAL)\n",
    "        self.chat_area.insert(tk.END, mensaje + \"\\n\")\n",
    "        self.chat_area.config(state=tk.DISABLED)\n",
    "        self.chat_area.see(tk.END)\n",
    "\n",
    "    def cerrar_ventana(self):\n",
    "        if self.ws:\n",
    "            asyncio.run_coroutine_threadsafe(self.ws.close(), self.loop)\n",
    "        self.root.destroy()\n",
    "\n",
    "if __name__ == \"__main__\":\n",
    "    ChatClienteGUI()\n"
   ]
  },
  {
   "cell_type": "code",
   "execution_count": null,
   "id": "31de5cd5-1a33-4515-92ec-c9bb62230067",
   "metadata": {},
   "outputs": [],
   "source": []
  },
  {
   "cell_type": "code",
   "execution_count": null,
   "id": "ed918a53-46d2-4909-b021-39f5e0504ea9",
   "metadata": {},
   "outputs": [],
   "source": []
  }
 ],
 "metadata": {
  "kernelspec": {
   "display_name": "Python 3 (ipykernel)",
   "language": "python",
   "name": "python3"
  },
  "language_info": {
   "codemirror_mode": {
    "name": "ipython",
    "version": 3
   },
   "file_extension": ".py",
   "mimetype": "text/x-python",
   "name": "python",
   "nbconvert_exporter": "python",
   "pygments_lexer": "ipython3",
   "version": "3.12.4"
  }
 },
 "nbformat": 4,
 "nbformat_minor": 5
}
